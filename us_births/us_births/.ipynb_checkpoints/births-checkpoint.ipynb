{
 "cells": [
  {
   "cell_type": "markdown",
   "metadata": {
    "collapsed": true
   },
   "source": [
    "## US Birth Data Set\n",
    "\n",
    "[Original article by FiveThirtyEight about Friday the 13th](http://fivethirtyeight.com/features/some-people-are-too-superstitious-to-have-a-baby-on-friday-the-13th/)\n",
    "\n",
    "The data set contains U.S. births data for the years 1994 to 2003, as provided by the Centers for Disease Control and Prevention's National Center for Health Statistics"
   ]
  },
  {
   "cell_type": "markdown",
   "metadata": {},
   "source": [
    "### Assignment\n",
    "\n",
    "- Open the CSV and split based on new lines\n",
    "- Preview the first 10 entries"
   ]
  },
  {
   "cell_type": "code",
   "execution_count": 1,
   "metadata": {},
   "outputs": [
    {
     "name": "stdout",
     "output_type": "stream",
     "text": [
      "['year', 'month', 'date_of_month', 'day_of_week', 'births']\n",
      "['1994', '1', '1', '6', '8096']\n",
      "['1994', '1', '2', '7', '7772']\n",
      "['1994', '1', '3', '1', '10142']\n",
      "['1994', '1', '4', '2', '11248']\n",
      "['1994', '1', '5', '3', '11053']\n",
      "['1994', '1', '6', '4', '11406']\n",
      "['1994', '1', '7', '5', '11251']\n",
      "['1994', '1', '8', '6', '8653']\n",
      "['1994', '1', '9', '7', '7910']\n",
      "['1994', '1', '10', '1', '10498']\n"
     ]
    }
   ],
   "source": [
    "import pandas as pd\n",
    "import csv\n",
    "\n",
    "dir = r\"c:\\users\\kostya\\k2\\foundations\\us_births\\us_births\\us_births.csv\"\n",
    "f = open(dir)\n",
    "reader = csv.reader(f)\n",
    "for i in range(11):\n",
    "    print(next(reader))\n",
    "f.close()"
   ]
  },
  {
   "cell_type": "markdown",
   "metadata": {},
   "source": [
    "### Assignment\n",
    "\n",
    "- Create a function that takes in a CSV and converts the data into a list of lists\n",
    "    - Each row will be a list\n",
    "    - Make sure to convert the values to int\n",
    "    - Return the final list of lists\n",
    "- Preview the first 10 entries of the output"
   ]
  },
  {
   "cell_type": "code",
   "execution_count": 3,
   "metadata": {},
   "outputs": [
    {
     "name": "stdout",
     "output_type": "stream",
     "text": [
      "[[1994, 1, 1, 6, 8096], [1994, 1, 2, 7, 7772], [1994, 1, 3, 1, 10142], [1994, 1, 4, 2, 11248], [1994, 1, 5, 3, 11053], [1994, 1, 6, 4, 11406], [1994, 1, 7, 5, 11251], [1994, 1, 8, 6, 8653], [1994, 1, 9, 7, 7910], [1994, 1, 10, 1, 10498]]\n"
     ]
    }
   ],
   "source": [
    "def f_list(dir):\n",
    "    f = open(dir)\n",
    "    reader = csv.reader(f)\n",
    "    next(reader)\n",
    "    #data = list(reader)\n",
    "    data = [[int(x) for x in line] for line in reader]\n",
    "    return(data)\n",
    "    f.close()\n",
    "print(f_list(dir)[0:10])"
   ]
  },
  {
   "cell_type": "markdown",
   "metadata": {},
   "source": [
    "### Assignment\n",
    "\n",
    "- Create a function that calculates the number of births each month\n",
    "    - The function input should be the previous list of lists you created\n",
    "    - Use a dictionary and increment the values associated with each month key\n",
    "    - Return the final dictionary\n",
    "- Preview the output"
   ]
  },
  {
   "cell_type": "code",
   "execution_count": 4,
   "metadata": {},
   "outputs": [
    {
     "name": "stdout",
     "output_type": "stream",
     "text": [
      "{(1994, 1): 320705, (1994, 2): 301327, (1994, 3): 339736, (1994, 4): 317392, (1994, 5): 330295, (1994, 6): 329737, (1994, 7): 345862, (1994, 8): 352173, (1994, 9): 339223, (1994, 10): 330172, (1994, 11): 319397, (1994, 12): 326748, (1995, 1): 316013, (1995, 2): 295094, (1995, 3): 328503, (1995, 4): 309119, (1995, 5): 334543, (1995, 6): 329805, (1995, 7): 340873, (1995, 8): 350737, (1995, 9): 339103, (1995, 10): 330012, (1995, 11): 310817, (1995, 12): 314970, (1996, 1): 314283, (1996, 2): 301763, (1996, 3): 322581, (1996, 4): 312595, (1996, 5): 325708, (1996, 6): 318525, (1996, 7): 345162, (1996, 8): 346317, (1996, 9): 336348, (1996, 10): 336346, (1996, 11): 309397, (1996, 12): 322469, (1997, 1): 317211, (1997, 2): 291541, (1997, 3): 321212, (1997, 4): 314230, (1997, 5): 330331, (1997, 6): 321867, (1997, 7): 346506, (1997, 8): 339122, (1997, 9): 333600, (1997, 10): 328657, (1997, 11): 307282, (1997, 12): 329335, (1998, 1): 319340, (1998, 2): 298711, (1998, 3): 329436, (1998, 4): 319758, (1998, 5): 330519, (1998, 6): 327091, (1998, 7): 348651, (1998, 8): 344736, (1998, 9): 343384, (1998, 10): 332790, (1998, 11): 313241, (1998, 12): 333896, (1999, 1): 319182, (1999, 2): 297568, (1999, 3): 332939, (1999, 4): 316889, (1999, 5): 328526, (1999, 6): 332201, (1999, 7): 349812, (1999, 8): 351371, (1999, 9): 349409, (1999, 10): 332980, (1999, 11): 315289, (1999, 12): 333251, (2000, 1): 330108, (2000, 2): 317377, (2000, 3): 340553, (2000, 4): 317180, (2000, 5): 341207, (2000, 6): 341206, (2000, 7): 348975, (2000, 8): 360080, (2000, 9): 347609, (2000, 10): 343921, (2000, 11): 333811, (2000, 12): 336787, (2001, 1): 335198, (2001, 2): 303534, (2001, 3): 338684, (2001, 4): 323613, (2001, 5): 344017, (2001, 6): 331085, (2001, 7): 351047, (2001, 8): 361802, (2001, 9): 342564, (2001, 10): 344074, (2001, 11): 323746, (2001, 12): 326569, (2002, 1): 330674, (2002, 2): 303977, (2002, 3): 331505, (2002, 4): 324432, (2002, 5): 339007, (2002, 6): 327588, (2002, 7): 357669, (2002, 8): 359417, (2002, 9): 348814, (2002, 10): 345814, (2002, 11): 318573, (2002, 12): 334256, (2003, 1): 329803, (2003, 2): 307248, (2003, 3): 336920, (2003, 4): 330106, (2003, 5): 346754, (2003, 6): 337425, (2003, 7): 364226, (2003, 8): 360103, (2003, 9): 359644, (2003, 10): 354048, (2003, 11): 320094, (2003, 12): 343579}\n"
     ]
    }
   ],
   "source": [
    "def f_birth_m(ll):\n",
    "    d = {}\n",
    "    for l in ll:\n",
    "        if not (l[0],l[1]) in d:\n",
    "            d[(l[0],l[1])] = l[4]\n",
    "        else:\n",
    "            d[(l[0],l[1])] += l[4]\n",
    "    return d\n",
    "print(f_birth_m(f_list(dir)))"
   ]
  },
  {
   "cell_type": "markdown",
   "metadata": {},
   "source": [
    "### Assignment\n",
    "\n",
    "- Create a function that calculates the number of births each day of the week"
   ]
  },
  {
   "cell_type": "code",
   "execution_count": 5,
   "metadata": {},
   "outputs": [
    {
     "name": "stdout",
     "output_type": "stream",
     "text": [
      "{6: 4562111, 7: 4079723, 1: 5789166, 2: 6446196, 3: 6322855, 4: 6288429, 5: 6233657}\n"
     ]
    }
   ],
   "source": [
    "def f_birth_d(ll):\n",
    "    d = {}\n",
    "    for l in ll:\n",
    "        if not l[3] in d:\n",
    "            d[l[3]] = l[4]\n",
    "        else:\n",
    "            d[l[3]] += l[4]\n",
    "    return d\n",
    "print(f_birth_d(f_list(dir)))"
   ]
  },
  {
   "cell_type": "markdown",
   "metadata": {},
   "source": [
    "### Assignment\n",
    "\n",
    "- Create a general function that takes the data list of lists and a column index, it should return a dictionary mapping of the unique keys and summed values"
   ]
  },
  {
   "cell_type": "code",
   "execution_count": 6,
   "metadata": {},
   "outputs": [
    {
     "name": "stdout",
     "output_type": "stream",
     "text": [
      "{1994: 3952767, 1995: 3899589, 1996: 3891494, 1997: 3880894, 1998: 3941553, 1999: 3959417, 2000: 4058814, 2001: 4025933, 2002: 4021726, 2003: 4089950}\n"
     ]
    }
   ],
   "source": [
    "def f_birth_g(ll, col):\n",
    "    d = {}\n",
    "    for l in ll:\n",
    "        if not l[col] in d:\n",
    "            d[l[col]] = l[4]\n",
    "        else:\n",
    "            d[l[col]] += l[4]\n",
    "    return d\n",
    "print(f_birth_g(f_list(dir), 0))"
   ]
  },
  {
   "cell_type": "code",
   "execution_count": null,
   "metadata": {
    "collapsed": true
   },
   "outputs": [],
   "source": []
  }
 ],
 "metadata": {
  "anaconda-cloud": {},
  "kernelspec": {
   "display_name": "Python 3",
   "language": "python",
   "name": "python3"
  },
  "language_info": {
   "codemirror_mode": {
    "name": "ipython",
    "version": 3
   },
   "file_extension": ".py",
   "mimetype": "text/x-python",
   "name": "python",
   "nbconvert_exporter": "python",
   "pygments_lexer": "ipython3",
   "version": "3.6.1"
  }
 },
 "nbformat": 4,
 "nbformat_minor": 1
}
