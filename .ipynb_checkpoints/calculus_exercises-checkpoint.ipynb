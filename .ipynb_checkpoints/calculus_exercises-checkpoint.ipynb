{
 "cells": [
  {
   "cell_type": "markdown",
   "metadata": {},
   "source": [
    "# Solve using [SymPy](http://docs.sympy.org/latest/tutorial/calculus.html)"
   ]
  },
  {
   "cell_type": "markdown",
   "metadata": {},
   "source": [
    "--------------------------"
   ]
  },
  {
   "cell_type": "markdown",
   "metadata": {},
   "source": [
    "## Exercise 1 - Explain how functions work from the perspective of sets."
   ]
  },
  {
   "cell_type": "code",
   "execution_count": null,
   "metadata": {
    "collapsed": true
   },
   "outputs": [],
   "source": []
  },
  {
   "cell_type": "markdown",
   "metadata": {},
   "source": [
    "## Exercise 2 - What is a limit? Find the limit of (1/x) as x approaches infinity, 0 from the left, and 0 from the right. Graph the function as well."
   ]
  },
  {
   "cell_type": "code",
   "execution_count": 1,
   "metadata": {},
   "outputs": [
    {
     "name": "stdout",
     "output_type": "stream",
     "text": [
      "0\n",
      "-oo\n",
      "oo\n"
     ]
    },
    {
     "data": {
      "text/plain": [
       "[<matplotlib.lines.Line2D at 0x161d61a91d0>]"
      ]
     },
     "execution_count": 1,
     "metadata": {},
     "output_type": "execute_result"
    },
    {
     "data": {
      "image/png": "[encoded data removed]",
      "text/plain": [
       "<matplotlib.figure.Figure at 0x161d544ae48>"
      ]
     },
     "metadata": {},
     "output_type": "display_data"
    }
   ],
   "source": [
    "from sympy import *\n",
    "import matplotlib.pyplot as plt\n",
    "%matplotlib inline\n",
    "import numpy as np\n",
    "\n",
    "x = symbols('x')\n",
    "print(limit(1/x, x, oo))\n",
    "print(limit(1/x, x, 0, '-'))\n",
    "print(limit(1/x, x, 0, '+'))\n",
    "x = np.linspace(-5,5,100)\n",
    "y = 1/x\n",
    "plt.plot(x, y)"
   ]
  },
  {
   "cell_type": "markdown",
   "metadata": {},
   "source": [
    "## Exercise 3 - What is a derivative? Find the derivative of the following equation.\n",
    "\n",
    "    S(t) = 5(t)^2 + 2(t) + 8 "
   ]
  },
  {
   "cell_type": "code",
   "execution_count": 8,
   "metadata": {},
   "outputs": [
    {
     "name": "stdout",
     "output_type": "stream",
     "text": [
      "10*x + 2\n",
      "Derivative is a slope of a function at a certain point\n"
     ]
    }
   ],
   "source": [
    "x = symbols('x')\n",
    "print(diff(5*(x)**2 + 2*(x) + 8))\n",
    "print(\"Derivative is a slope of a function at a certain point\")"
   ]
  },
  {
   "cell_type": "markdown",
   "metadata": {},
   "source": [
    "## Exercise 4 - Find the global maximum and minimum for the following equation.\n",
    "\n",
    "    f(x) = x^5 - 30(x)^3 + 50(x), where -5 <= x <= 5"
   ]
  },
  {
   "cell_type": "code",
   "execution_count": 9,
   "metadata": {},
   "outputs": [
    {
     "data": {
      "text/plain": [
       "[-1.32008142829056, 1.32008142829056, -0.239551711916997, 0.239551711916997]"
      ]
     },
     "execution_count": 9,
     "metadata": {},
     "output_type": "execute_result"
    }
   ],
   "source": [
    "s = solve(diff(x**5 - 30*x**3 + 50*x), x)\n",
    "[1/a.evalf() for a in s if (a >= -5) & (a <= 5)]"
   ]
  },
  {
   "cell_type": "markdown",
   "metadata": {},
   "source": [
    "## Exercise 5 - Define an indefinite integral. Find the integral for (x^2)."
   ]
  },
  {
   "cell_type": "code",
   "execution_count": 14,
   "metadata": {},
   "outputs": [
    {
     "name": "stdout",
     "output_type": "stream",
     "text": [
      "x**3/3\n",
      "Indefinite itegral has no borders and is anti-derivative\n"
     ]
    }
   ],
   "source": [
    "print(integrate(x**2, x))\n",
    "print(\"Indefinite itegral has no borders and is anti-derivative\")"
   ]
  },
  {
   "cell_type": "markdown",
   "metadata": {},
   "source": [
    "## Exercise 6 - Define a definte integral. Find the integral for (x) bounded by 2,4."
   ]
  },
  {
   "cell_type": "code",
   "execution_count": 15,
   "metadata": {},
   "outputs": [
    {
     "name": "stdout",
     "output_type": "stream",
     "text": [
      "6\n",
      "Definite integral is area between function, x axes and boundaries\n"
     ]
    }
   ],
   "source": [
    "print(integrate(x, (x, 2, 4)))\n",
    "print(\"Definite integral is area between function, x axes and boundaries\")"
   ]
  },
  {
   "cell_type": "markdown",
   "metadata": {},
   "source": [
    "## *Optional Exercises*"
   ]
  },
  {
   "cell_type": "markdown",
   "metadata": {},
   "source": [
    "## Exercise 7 - Plot a PDF of randomly generated exponential continuous variables. Explain the significance of integration."
   ]
  },
  {
   "cell_type": "code",
   "execution_count": 16,
   "metadata": {},
   "outputs": [
    {
     "data": {
      "image/png": "[encoded data removed]",
      "text/plain": [
       "<matplotlib.figure.Figure at 0x161d0ae62b0>"
      ]
     },
     "metadata": {},
     "output_type": "display_data"
    },
    {
     "data": {
      "image/png": "[encoded data removed]",
      "text/plain": [
       "<matplotlib.figure.Figure at 0x161d7c8e2b0>"
      ]
     },
     "metadata": {},
     "output_type": "display_data"
    }
   ],
   "source": [
    "import matplotlib.pyplot as plt\n",
    "import scipy.stats  as stats\n",
    "import numpy as np\n",
    "plt.plot(np.arange(0, 3, 0.01), stats.expon.pdf(np.arange(0, 3, 0.01)))\n",
    "plt.show()\n",
    "plt.hist(stats.expon.rvs(size=1000))\n",
    "plt.show()"
   ]
  },
  {
   "cell_type": "markdown",
   "metadata": {},
   "source": [
    "## Exercise 8 - Create a funtion that uses gradient descent to find the minimum value of a single variable function. This also checks for the existence of a solution for the equation, f'(x)=0 and plots the intermediate points traversed. Explain the significance of differentiation.\n",
    "\n"
   ]
  },
  {
   "cell_type": "code",
   "execution_count": null,
   "metadata": {
    "collapsed": true
   },
   "outputs": [],
   "source": []
  }
 ],
 "metadata": {
  "anaconda-cloud": {},
  "kernelspec": {
   "display_name": "Python 3",
   "language": "python",
   "name": "python3"
  },
  "language_info": {
   "codemirror_mode": {
    "name": "ipython",
    "version": 3
   },
   "file_extension": ".py",
   "mimetype": "text/x-python",
   "name": "python",
   "nbconvert_exporter": "python",
   "pygments_lexer": "ipython3",
   "version": "3.6.1"
  }
 },
 "nbformat": 4,
 "nbformat_minor": 1
}
