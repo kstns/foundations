{
 "cells": [
  {
   "cell_type": "markdown",
   "metadata": {},
   "source": [
    "## Exercise 1 - Create a new 3x2 matrix. Extract 2 values via indexing.\n",
    "\n",
    "    [[1402,191],\n",
    "     [1371,821],\n",
    "     [949,1437]]\n",
    "     "
   ]
  },
  {
   "cell_type": "code",
   "execution_count": 1,
   "metadata": {},
   "outputs": [
    {
     "data": {
      "text/plain": [
       "(191, 1371)"
      ]
     },
     "execution_count": 1,
     "metadata": {},
     "output_type": "execute_result"
    }
   ],
   "source": [
    "import numpy as np\n",
    "a = [[1402,191],\n",
    "     [1371,821],\n",
    "     [949,1437]]\n",
    "(a[0][1], a[1][0])"
   ]
  },
  {
   "cell_type": "markdown",
   "metadata": {},
   "source": [
    "## Exercise 2 - Add, Subtract, Multiply and Divide 2 Matrices\n",
    "\n",
    "    [[0, 4],\n",
    "     [2, 0]]\n",
    "\n",
    "    [[-1, 2],\n",
    "     [1, -2]]"
   ]
  },
  {
   "cell_type": "code",
   "execution_count": 2,
   "metadata": {},
   "outputs": [
    {
     "name": "stdout",
     "output_type": "stream",
     "text": [
      "[[-1  6]\n",
      " [ 3 -2]]\n",
      "[[1 2]\n",
      " [1 2]]\n",
      "[[ 4 -8]\n",
      " [-2  4]]\n",
      "[[-0.  2.]\n",
      " [ 2. -0.]]\n"
     ]
    }
   ],
   "source": [
    "a = [[0, 4],\n",
    "     [2, 0]]\n",
    "b = [[-1, 2],\n",
    "     [1, -2]]\n",
    "print(np.add(a,b))\n",
    "print(np.subtract(a,b))\n",
    "print(np.dot(a,b))\n",
    "print(np.divide(a,b))"
   ]
  },
  {
   "cell_type": "markdown",
   "metadata": {},
   "source": [
    "## Exercise 3 - Create a 3x3 Identity Matrix. Show that for any matrix A, AI=IA=A.\n",
    "\n",
    "    [[4,2,1],\n",
    "     [4,8,3],\n",
    "     [1,1,0]]"
   ]
  },
  {
   "cell_type": "code",
   "execution_count": 3,
   "metadata": {},
   "outputs": [
    {
     "name": "stdout",
     "output_type": "stream",
     "text": [
      "[[4 2 1]\n",
      " [4 8 3]\n",
      " [1 1 0]]\n",
      "[[4 2 1]\n",
      " [4 8 3]\n",
      " [1 1 0]]\n"
     ]
    }
   ],
   "source": [
    "a = [[4,2,1],\n",
    "     [4,8,3],\n",
    "     [1,1,0]]\n",
    "\n",
    "i = [[1,0,0],\n",
    "     [0,1,0],\n",
    "     [0,0,1]]\n",
    "\n",
    "print(np.dot(a,i))\n",
    "print(np.dot(i,a))"
   ]
  },
  {
   "cell_type": "code",
   "execution_count": 4,
   "metadata": {},
   "outputs": [
    {
     "name": "stdout",
     "output_type": "stream",
     "text": [
      "[[0.6356170318597552, 0.8870541863024719, 0.39792463528989974], [0.7657872829561824, 0.8058162863833005, 0.3156042876515954], [0.16243470631126977, 0.8492426882508175, 0.9050677631287726]]\n",
      "[[ 0.63561703  0.88705419  0.39792464]\n",
      " [ 0.76578728  0.80581629  0.31560429]\n",
      " [ 0.16243471  0.84924269  0.90506776]]\n",
      "[[ 0.63561703  0.88705419  0.39792464]\n",
      " [ 0.76578728  0.80581629  0.31560429]\n",
      " [ 0.16243471  0.84924269  0.90506776]]\n"
     ]
    }
   ],
   "source": [
    "import random\n",
    "a = [[random.random() for i in range(3)] for j in range(3)]\n",
    "print(a)\n",
    "print(np.dot(a,i))\n",
    "print(np.dot(i,a))"
   ]
  },
  {
   "cell_type": "markdown",
   "metadata": {},
   "source": [
    "## Exercise 4 - Transpose a Matrix. What do we need to pivot a matrix?\n",
    "\n",
    "    [[0 1]\n",
    "     [2 3]\n",
    "     [4 5]]"
   ]
  },
  {
   "cell_type": "code",
   "execution_count": 6,
   "metadata": {},
   "outputs": [
    {
     "name": "stdout",
     "output_type": "stream",
     "text": [
      "np.transpose(a)\n",
      "To pivot a matrix we need 3 types of row operations\n"
     ]
    }
   ],
   "source": [
    "a = [[0, 1],\n",
    "     [2, 3],\n",
    "     [4, 5]]\n",
    "print(\"np.transpose(a)\")\n",
    "print(\"To pivot a matrix we need 3 types of row operations\")"
   ]
  },
  {
   "cell_type": "markdown",
   "metadata": {},
   "source": [
    "## Exercise 5 - Invert a Matrix. What happens when a matrix is not invertible?\n",
    "\n",
    "    [[1, 4],\n",
    "     [2, 0]]"
   ]
  },
  {
   "cell_type": "code",
   "execution_count": 7,
   "metadata": {},
   "outputs": [
    {
     "name": "stdout",
     "output_type": "stream",
     "text": [
      "[[ 0.     0.5  ]\n",
      " [ 0.25  -0.125]]\n",
      "not invertible matrix has nonempty null space, determinant is equal 0\n"
     ]
    }
   ],
   "source": [
    "a = [[1, 4],\n",
    "     [2, 0]]\n",
    "print(np.linalg.inv(a))\n",
    "print(\"not invertible matrix has nonempty null space, determinant is equal 0\")"
   ]
  },
  {
   "cell_type": "markdown",
   "metadata": {},
   "source": [
    "## Exercise 6 - Find the determinant for the following 3 matrices.\n",
    "\n",
    "        [[1, 2], \n",
    "         [3, 4]], \n",
    "        \n",
    "        [[1, 2], \n",
    "         [2, 1]],\n",
    "        \n",
    "        [[1, 3],\n",
    "         [3, 1]]"
   ]
  },
  {
   "cell_type": "code",
   "execution_count": 8,
   "metadata": {},
   "outputs": [
    {
     "name": "stdout",
     "output_type": "stream",
     "text": [
      "-2.0\n",
      "-3.0\n",
      "-8.0\n"
     ]
    }
   ],
   "source": [
    "a = [[1, 2], \n",
    "     [3, 4]]\n",
    "b = [[1, 2], \n",
    "     [2, 1]]\n",
    "c = [[1, 3],\n",
    "     [3, 1]]\n",
    "print(np.linalg.det(a))\n",
    "print(np.linalg.det(b))\n",
    "print(np.linalg.det(c))"
   ]
  },
  {
   "cell_type": "markdown",
   "metadata": {},
   "source": [
    "## Exercise 6 - Solve the following linear system.\n",
    "\n",
    "- 3x + y = 9\n",
    "- x + 2y = 8"
   ]
  },
  {
   "cell_type": "code",
   "execution_count": 9,
   "metadata": {},
   "outputs": [
    {
     "data": {
      "text/plain": [
       "array([ 2.,  3.])"
      ]
     },
     "execution_count": 9,
     "metadata": {},
     "output_type": "execute_result"
    }
   ],
   "source": [
    "a = [[3,1],[1,2]]\n",
    "b = [9,8]\n",
    "np.linalg.solve(a,b)"
   ]
  },
  {
   "cell_type": "markdown",
   "metadata": {},
   "source": [
    "## Exercise 7 - Compute the eigenvalues and eigenvectors for the following matrix. What do these represent?\n",
    "\n",
    "    [[1, 2, 1],\n",
    "     [6, -1, 0],\n",
    "     [-1, -2, -1]]"
   ]
  },
  {
   "cell_type": "code",
   "execution_count": 12,
   "metadata": {},
   "outputs": [
    {
     "name": "stdout",
     "output_type": "stream",
     "text": [
      "[ -4.00000000e+00   3.00000000e+00   1.71642331e-16]\n",
      "[[ 0.40824829 -0.48507125 -0.0696733 ]\n",
      " [-0.81649658 -0.72760688 -0.41803981]\n",
      " [-0.40824829  0.48507125  0.90575292]]\n",
      "Eigenvectors are such vectors that would remain in the same subspace after applying a linear tranformation (in case of 3d space they would remain in the same plain). Eigenvalues are scaling factors applied to these vectors as a result of this linear transformation\n"
     ]
    }
   ],
   "source": [
    "a = [[1, 2, 1],\n",
    "     [6, -1, 0],\n",
    "     [-1, -2, -1]]\n",
    "w, v = np.linalg.eig(a)\n",
    "print(w)\n",
    "print(v)\n",
    "print(\"Eigenvectors are such vectors that would remain in the same subspace after applying a linear tranformation (in case of 3d space they would remain in the same plain). Eigenvalues are scaling factors applied to these vectors as a result of this linear transformation\")"
   ]
  },
  {
   "cell_type": "code",
   "execution_count": null,
   "metadata": {
    "collapsed": true
   },
   "outputs": [],
   "source": []
  }
 ],
 "metadata": {
  "anaconda-cloud": {},
  "kernelspec": {
   "display_name": "Python 3",
   "language": "python",
   "name": "python3"
  },
  "language_info": {
   "codemirror_mode": {
    "name": "ipython",
    "version": 3
   },
   "file_extension": ".py",
   "mimetype": "text/x-python",
   "name": "python",
   "nbconvert_exporter": "python",
   "pygments_lexer": "ipython3",
   "version": "3.6.1"
  }
 },
 "nbformat": 4,
 "nbformat_minor": 1
}
