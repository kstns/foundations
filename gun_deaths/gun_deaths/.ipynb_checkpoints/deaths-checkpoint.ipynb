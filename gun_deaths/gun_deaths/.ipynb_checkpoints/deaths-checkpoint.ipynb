{
 "cells": [
  {
   "cell_type": "markdown",
   "metadata": {},
   "source": [
    "## US Gun Deaths Data Set\n",
    "\n",
    "[Original article by FiveThirtyEight about Guns](http://fivethirtyeight.com/features/gun-deaths/)\n",
    "\n",
    "The data set contains cleaned gun-death data from the CDC for 2012-2014."
   ]
  },
  {
   "cell_type": "markdown",
   "metadata": {},
   "source": [
    "### Assignment\n",
    "\n",
    "- Import the csv\n",
    "- Read it into a list\n",
    "- Preview the first 5 entries"
   ]
  },
  {
   "cell_type": "code",
   "execution_count": 2,
   "metadata": {},
   "outputs": [
    {
     "name": "stdout",
     "output_type": "stream",
     "text": [
      "['', 'year', 'month', 'intent', 'police', 'sex', 'age', 'race', 'hispanic', 'place', 'education']\n",
      "['1', '2012', '01', 'Suicide', '0', 'M', '34', 'Asian/Pacific Islander', '100', 'Home', '4']\n",
      "['2', '2012', '01', 'Suicide', '0', 'F', '21', 'White', '100', 'Street', '3']\n",
      "['3', '2012', '01', 'Suicide', '0', 'M', '60', 'White', '100', 'Other specified', '4']\n",
      "['4', '2012', '02', 'Suicide', '0', 'M', '64', 'White', '100', 'Home', '4']\n",
      "['5', '2012', '02', 'Suicide', '0', 'M', '31', 'White', '100', 'Other specified', '2']\n"
     ]
    }
   ],
   "source": [
    "import pandas as pd\n",
    "import csv\n",
    "\n",
    "dir = r\"c:\\users\\kostya\\k2\\foundations\\gun_deaths\\gun_deaths\\guns.csv\"\n",
    "f = open(dir)\n",
    "reader = csv.reader(f)\n",
    "for i in range(6):\n",
    "    print(next(reader))\n",
    "f.close()"
   ]
  },
  {
   "cell_type": "markdown",
   "metadata": {},
   "source": [
    "### Assignment\n",
    "\n",
    "- Remove the header row from the list of lists\n",
    "- Save it to a separate list"
   ]
  },
  {
   "cell_type": "code",
   "execution_count": 5,
   "metadata": {},
   "outputs": [],
   "source": [
    "f = open(dir)\n",
    "reader = csv.reader(f)\n",
    "header = next(reader)\n",
    "data = [[x for x in line] for line in reader]\n",
    "f.close()"
   ]
  },
  {
   "cell_type": "markdown",
   "metadata": {},
   "source": [
    "### Assignment\n",
    "\n",
    "- Count the number of gun deaths by year\n",
    "    - It may help to do a list comprehension to get the years\n",
    "    - Iterate over the years with a dictionary to keep count\n",
    "    \n",
    "    "
   ]
  },
  {
   "cell_type": "code",
   "execution_count": 6,
   "metadata": {},
   "outputs": [
    {
     "name": "stdout",
     "output_type": "stream",
     "text": [
      "{'2012': 33563, '2013': 33636, '2014': 33599}\n"
     ]
    }
   ],
   "source": [
    "d = {}\n",
    "for l in data:\n",
    "    if not l[1] in d:\n",
    "        d[l[1]] = 1\n",
    "    else:\n",
    "        d[l[1]] += 1\n",
    "print(d)"
   ]
  },
  {
   "cell_type": "markdown",
   "metadata": {},
   "source": [
    "### Assignment\n",
    "\n",
    "- Import the datetime library\n",
    "- Create a new list called \"dates\" with values from the data (set all the day values to 1)    \n",
    "- Count they number of gun deaths by month and year\n",
    "\n"
   ]
  },
  {
   "cell_type": "code",
   "execution_count": 7,
   "metadata": {},
   "outputs": [
    {
     "name": "stdout",
     "output_type": "stream",
     "text": [
      "{datetime.date(2012, 1, 1): 2758, datetime.date(2012, 2, 1): 2357, datetime.date(2012, 3, 1): 2743, datetime.date(2012, 4, 1): 2795, datetime.date(2012, 5, 1): 2999, datetime.date(2012, 6, 1): 2826, datetime.date(2012, 7, 1): 3026, datetime.date(2012, 8, 1): 2954, datetime.date(2012, 9, 1): 2852, datetime.date(2012, 10, 1): 2733, datetime.date(2012, 11, 1): 2729, datetime.date(2012, 12, 1): 2791, datetime.date(2013, 1, 1): 2864, datetime.date(2013, 2, 1): 2375, datetime.date(2013, 3, 1): 2862, datetime.date(2013, 4, 1): 2798, datetime.date(2013, 5, 1): 2806, datetime.date(2013, 6, 1): 2920, datetime.date(2013, 7, 1): 3079, datetime.date(2013, 8, 1): 2859, datetime.date(2013, 9, 1): 2742, datetime.date(2013, 10, 1): 2808, datetime.date(2013, 11, 1): 2758, datetime.date(2013, 12, 1): 2765, datetime.date(2014, 1, 1): 2651, datetime.date(2014, 2, 1): 2361, datetime.date(2014, 3, 1): 2684, datetime.date(2014, 4, 1): 2862, datetime.date(2014, 5, 1): 2864, datetime.date(2014, 6, 1): 2931, datetime.date(2014, 7, 1): 2884, datetime.date(2014, 8, 1): 2970, datetime.date(2014, 9, 1): 2914, datetime.date(2014, 10, 1): 2865, datetime.date(2014, 11, 1): 2756, datetime.date(2014, 12, 1): 2857}\n"
     ]
    }
   ],
   "source": [
    "import datetime\n",
    "dates = list(datetime.date(int(x[1]),int(x[2]),1) for x in data)\n",
    "d = {}\n",
    "for dat in dates:\n",
    "    if not dat in d:\n",
    "        d[dat] = 1\n",
    "    else:\n",
    "        d[dat] += 1\n",
    "print(d)"
   ]
  },
  {
   "cell_type": "markdown",
   "metadata": {},
   "source": [
    "### Assignment\n",
    "\n",
    "- Find the number of gun deaths by Sex\n",
    "- Find the number of gun deaths by Race\n",
    "- How does this compare to the overall population in the US?"
   ]
  },
  {
   "cell_type": "code",
   "execution_count": 9,
   "metadata": {},
   "outputs": [
    {
     "name": "stdout",
     "output_type": "stream",
     "text": [
      "{'M': 86349, 'F': 14449}\n",
      "{'Asian/Pacific Islander': 1326, 'White': 66237, 'Native American/Native Alaskan': 917, 'Black': 23296, 'Hispanic': 9022}\n"
     ]
    }
   ],
   "source": [
    "d = {}\n",
    "for l in data:\n",
    "    if not l[5] in d:\n",
    "        d[l[5]] = 1\n",
    "    else:\n",
    "        d[l[5]] += 1\n",
    "print(d)\n",
    "\n",
    "d = {}\n",
    "for l in data:\n",
    "    if not l[7] in d:\n",
    "        d[l[7]] = 1\n",
    "    else:\n",
    "        d[l[7]] += 1\n",
    "print(d)"
   ]
  },
  {
   "cell_type": "markdown",
   "metadata": {},
   "source": [
    "### Assignment\n",
    "\n",
    "- Reuse the data structure counting deaths by race\n",
    "- Use the dictionary below that has the actual population of each race\n",
    "- Compute the rates of gun deaths per race per 100,000 people\n",
    "\n",
    "mapping = {\n",
    "    \"Asian/Pacific Islander\": 15159516 + 674625,\n",
    "    \"Native American/Native Alaskan\": 3739506,\n",
    "    \"Black\": 40250635,\n",
    "    \"Hispanic\": 44618105,\n",
    "    \"White\": 197318956\n",
    "}"
   ]
  },
  {
   "cell_type": "code",
   "execution_count": 10,
   "metadata": {},
   "outputs": [
    {
     "name": "stdout",
     "output_type": "stream",
     "text": [
      "{'Asian/Pacific Islander': 8.374309664161762, 'White': 33.56849303419181, 'Native American/Native Alaskan': 24.521955573811088, 'Black': 57.8773477735196, 'Hispanic': 20.220491210910907}\n"
     ]
    }
   ],
   "source": [
    "mapping = { \"Asian/Pacific Islander\": 15159516 + 674625,\n",
    "           \"Native American/Native Alaskan\": 3739506,\n",
    "           \"Black\": 40250635, \n",
    "           \"Hispanic\": 44618105, \n",
    "           \"White\": 197318956 }\n",
    "rates = {k: d[k]/mapping[k]*100000 for k in d}\n",
    "print(rates)"
   ]
  },
  {
   "cell_type": "markdown",
   "metadata": {},
   "source": [
    "### Assignment\n",
    "\n",
    "You may not know this, but over half of all gun deaths are suicide.\n",
    "\n",
    "- Redo the computation of rates of gun deaths per race per 100,000 people\n",
    "- This time only count those that are \"Homicide\"\n",
    "- How are these different than the previous calculation?\n"
   ]
  },
  {
   "cell_type": "code",
   "execution_count": 11,
   "metadata": {},
   "outputs": [
    {
     "name": "stdout",
     "output_type": "stream",
     "text": [
      "{'White': 9147, 'Asian/Pacific Islander': 559, 'Black': 19510, 'Native American/Native Alaskan': 326, 'Hispanic': 5634}\n",
      "{'White': 4.6356417981453335, 'Asian/Pacific Islander': 3.530346230970155, 'Black': 48.471284987180944, 'Native American/Native Alaskan': 8.717729026240365, 'Hispanic': 12.627161104219914}\n"
     ]
    }
   ],
   "source": [
    "d = {}\n",
    "for l in data:\n",
    "    if not l[7] in d and l[3] == 'Homicide':\n",
    "        d[l[7]] = 1\n",
    "    elif l[7] in d and l[3] == 'Homicide':\n",
    "        d[l[7]] += 1\n",
    "print(d)\n",
    "rates2 = {k: d[k]/mapping[k]*100000 for k in d}\n",
    "print(rates2)"
   ]
  },
  {
   "cell_type": "code",
   "execution_count": null,
   "metadata": {
    "collapsed": true
   },
   "outputs": [],
   "source": []
  }
 ],
 "metadata": {
  "anaconda-cloud": {},
  "kernelspec": {
   "display_name": "Python 3",
   "language": "python",
   "name": "python3"
  },
  "language_info": {
   "codemirror_mode": {
    "name": "ipython",
    "version": 3
   },
   "file_extension": ".py",
   "mimetype": "text/x-python",
   "name": "python",
   "nbconvert_exporter": "python",
   "pygments_lexer": "ipython3",
   "version": "3.6.1"
  }
 },
 "nbformat": 4,
 "nbformat_minor": 1
}
