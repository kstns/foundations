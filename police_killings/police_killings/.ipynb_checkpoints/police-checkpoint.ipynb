{
 "cells": [
  {
   "cell_type": "markdown",
   "metadata": {},
   "source": [
    "## Police Killings\n",
    "\n",
    "The Guardian launched “The Counted,” an impressive interactive database of Americans killed by police since the start of the year. It started in 2015, but you can check the recent stats for 2016. We will explore the data by race, income and state."
   ]
  },
  {
   "cell_type": "markdown",
   "metadata": {},
   "source": [
    "### Assignment\n",
    "\n",
    "- Import the data and examine the head and columns\n",
    "- Get the total counts for each racial grouping\n",
    "- Find the relative % for each racial grouping\n",
    "- How do the killings compare with the overall US breakdown of population by race?"
   ]
  },
  {
   "cell_type": "code",
   "execution_count": 3,
   "metadata": {},
   "outputs": [
    {
     "name": "stdout",
     "output_type": "stream",
     "text": [
      "                 name age gender    raceethnicity     month  day  year  \\\n",
      "0  A'donte Washington  16   Male            Black  February   23  2015   \n",
      "1      Aaron Rutledge  27   Male            White     April    2  2015   \n",
      "2         Aaron Siler  26   Male            White     March   14  2015   \n",
      "3        Aaron Valdez  25   Male  Hispanic/Latino     March   11  2015   \n",
      "4        Adam Jovicic  29   Male            White     March   19  2015   \n",
      "\n",
      "            streetaddress          city state    ...     share_hispanic  \\\n",
      "0            Clearview Ln     Millbrook    AL    ...                5.6   \n",
      "1  300 block Iris Park Dr     Pineville    LA    ...                0.5   \n",
      "2    22nd Ave and 56th St       Kenosha    WI    ...               16.8   \n",
      "3       3000 Seminole Ave    South Gate    CA    ...               98.8   \n",
      "4          364 Hiwood Ave  Munroe Falls    OH    ...                1.7   \n",
      "\n",
      "   p_income  h_income  county_income  comp_income  county_bucket  nat_bucket  \\\n",
      "0     28375   51367.0          54766     0.937936            3.0         3.0   \n",
      "1     14678   27972.0          40930     0.683411            2.0         1.0   \n",
      "2     25286   45365.0          54930     0.825869            2.0         3.0   \n",
      "3     17194   48295.0          55909     0.863814            3.0         3.0   \n",
      "4     33954   68785.0          49669     1.384868            5.0         4.0   \n",
      "\n",
      "    pov     urate   college  \n",
      "0  14.1  0.097686  0.168510  \n",
      "1  28.8  0.065724  0.111402  \n",
      "2  14.6  0.166293  0.147312  \n",
      "3  11.7  0.124827  0.050133  \n",
      "4   1.9  0.063550  0.403954  \n",
      "\n",
      "[5 rows x 34 columns]\n",
      "name                     object\n",
      "age                      object\n",
      "gender                   object\n",
      "raceethnicity            object\n",
      "month                    object\n",
      "day                       int64\n",
      "year                      int64\n",
      "streetaddress            object\n",
      "city                     object\n",
      "state                    object\n",
      "latitude                float64\n",
      "longitude               float64\n",
      "state_fp                  int64\n",
      "county_fp                 int64\n",
      "tract_ce                  int64\n",
      "geo_id                    int64\n",
      "county_id                 int64\n",
      "namelsad                 object\n",
      "lawenforcementagency     object\n",
      "cause                    object\n",
      "armed                    object\n",
      "pop                       int64\n",
      "share_white              object\n",
      "share_black              object\n",
      "share_hispanic           object\n",
      "p_income                 object\n",
      "h_income                float64\n",
      "county_income             int64\n",
      "comp_income             float64\n",
      "county_bucket           float64\n",
      "nat_bucket              float64\n",
      "pov                      object\n",
      "urate                   float64\n",
      "college                 float64\n",
      "dtype: object\n"
     ]
    },
    {
     "data": {
      "text/plain": [
       "Asian/Pacific Islander    0.063155\n",
       "Black                     0.335398\n",
       "Hispanic/Latino           0.150163\n",
       "Native American           0.106966\n",
       "Unknown                        NaN\n",
       "White                     0.119603\n",
       "dtype: float64"
      ]
     },
     "execution_count": 3,
     "metadata": {},
     "output_type": "execute_result"
    }
   ],
   "source": [
    "import pandas as pd\n",
    "import matplotlib.pyplot as plt\n",
    "% matplotlib inline\n",
    "\n",
    "dir = r\"C:\\Users\\Kostya\\K2\\foundations\\police_killings\\police_killings\\police_killings.csv\"\n",
    "police = pd.read_csv(dir, encoding='iso-8859-1')\n",
    "print(police.head())\n",
    "print(police.dtypes)\n",
    "raceethnicity = police.groupby('raceethnicity')[['raceethnicity']].count()\n",
    "raceethnicity\n",
    "raceethnicity.apply(lambda x: x/x.sum()*100)\n",
    "mapping = { \"Asian/Pacific Islander\": 15159516 + 674625,\n",
    "           \"Native American\": 3739506,\n",
    "           \"Black\": 40250635, \n",
    "           \"Hispanic/Latino\": 44618105, \n",
    "           \"White\": 197318956 }\n",
    "total = pd.DataFrame(list(mapping.items()), columns = ['race', 'cnt']).set_index('race')\n",
    "raceethnicity.raceethnicity/total.cnt*100000\n"
   ]
  },
  {
   "cell_type": "markdown",
   "metadata": {},
   "source": [
    "### Assignment\n",
    "\n",
    "- Graph the killings by race using a bar chart. Make sure to label the graph and axes\n",
    "- Graph the killings by \"p_income\" using a histogram with different bin amounts (remember to remove any \"-\" values)\n",
    "- Calculate the median \"p_income\""
   ]
  },
  {
   "cell_type": "code",
   "execution_count": 11,
   "metadata": {},
   "outputs": [
    {
     "data": {
      "image/png": "[encoded data removed]",
      "text/plain": [
       "<matplotlib.figure.Figure at 0x231afa144e0>"
      ]
     },
     "metadata": {},
     "output_type": "display_data"
    },
    {
     "data": {
      "image/png": "[encoded data removed]",
      "text/plain": [
       "<matplotlib.figure.Figure at 0x231b1e425c0>"
      ]
     },
     "metadata": {},
     "output_type": "display_data"
    },
    {
     "data": {
      "text/plain": [
       "22348.0"
      ]
     },
     "execution_count": 11,
     "metadata": {},
     "output_type": "execute_result"
    }
   ],
   "source": [
    "raceethnicity.plot(kind='bar')\n",
    "plt.xlabel('race', fontsize=18)\n",
    "plt.ylabel('count', fontsize=18)\n",
    "plt.title('killed by police', fontsize=18)\n",
    "plt.show()\n",
    "\n",
    "p_income = police.p_income[police.p_income.apply(lambda x: x.isnumeric())]\n",
    "p_income.astype(float).plot.hist(bins=20, rot=45)\n",
    "plt.title('income', fontsize=18)\n",
    "plt.show()\n",
    "p_income.median()"
   ]
  },
  {
   "cell_type": "markdown",
   "metadata": {},
   "source": [
    "### Assignment\n",
    "\n",
    "- Find the total killings per each state\n",
    "- Create a new dataframe and remove any \"-\" from the following columns \"share_white\", \"share_black\" and \"share_hispanic\" \n",
    "- Convert the values in those columns to float types\n",
    "- Find the mean of 'pop', 'county_income' and those 3 columns for the following subsets\n",
    "    \n",
    "    lowest_states = [\"CT\", \"PA\", \"IA\", \"NY\", \"MA\", \"NH\", \"ME\", \"IL\", \"OH\", \"WI\"]\n",
    "    \n",
    "    highest_states = [\"OK\", \"AZ\", \"NE\", \"HI\", \"AK\", \"ID\", \"NM\", \"LA\", \"CO\", \"DE\"]"
   ]
  },
  {
   "cell_type": "code",
   "execution_count": 20,
   "metadata": {},
   "outputs": [
    {
     "name": "stdout",
     "output_type": "stream",
     "text": [
      "state\n",
      "AK     2\n",
      "AL     8\n",
      "AR     4\n",
      "AZ    25\n",
      "CA    74\n",
      "CO    12\n",
      "CT     1\n",
      "DC     1\n",
      "DE     2\n",
      "FL    29\n",
      "GA    16\n",
      "HI     4\n",
      "IA     2\n",
      "ID     4\n",
      "IL    11\n",
      "IN     8\n",
      "KS     6\n",
      "KY     7\n",
      "LA    11\n",
      "MA     5\n",
      "MD    10\n",
      "ME     1\n",
      "MI     9\n",
      "MN     6\n",
      "MO    10\n",
      "MS     6\n",
      "MT     2\n",
      "NC    10\n",
      "NE     6\n",
      "NH     1\n",
      "NJ    11\n",
      "NM     5\n",
      "NV     3\n",
      "NY    14\n",
      "OH    10\n",
      "OK    22\n",
      "OR     8\n",
      "PA     7\n",
      "SC     9\n",
      "TN     6\n",
      "TX    46\n",
      "UT     5\n",
      "VA     9\n",
      "WA    11\n",
      "WI     5\n",
      "WV     2\n",
      "WY     1\n",
      "Name: state, dtype: int64\n",
      "\n",
      " Lowest states: \n",
      " pop                4201.660714\n",
      "county_income     54830.839286\n",
      "share_white          60.616071\n",
      "share_black          21.257143\n",
      "share_hispanic       12.948214\n",
      "dtype: float64\n",
      "\n",
      " Highest states: \n",
      " pop                4315.750000\n",
      "county_income     48706.967391\n",
      "share_white          55.652174\n",
      "share_black          11.532609\n",
      "share_hispanic       20.693478\n",
      "dtype: float64\n"
     ]
    },
    {
     "name": "stderr",
     "output_type": "stream",
     "text": [
      "C:\\Anaconda3\\lib\\site-packages\\pandas\\core\\generic.py:2999: SettingWithCopyWarning: \n",
      "A value is trying to be set on a copy of a slice from a DataFrame.\n",
      "Try using .loc[row_indexer,col_indexer] = value instead\n",
      "\n",
      "See the caveats in the documentation: http://pandas.pydata.org/pandas-docs/stable/indexing.html#indexing-view-versus-copy\n",
      "  self[name] = value\n"
     ]
    }
   ],
   "source": [
    "print(police.groupby('state').state.count())\n",
    "police2 = police[(police.share_white != '-') & (police.share_black != '-') & (police.share_hispanic != '-')]\n",
    "police2.share_white = police2.share_white.astype(float)\n",
    "police2.share_black = police2.share_black.astype(float)\n",
    "police2.share_hispanic = police2.share_hispanic.astype(float)\n",
    "lowest_states = [\"CT\", \"PA\", \"IA\", \"NY\", \"MA\", \"NH\", \"ME\", \"IL\", \"OH\", \"WI\"]\n",
    "highest_states = [\"OK\", \"AZ\", \"NE\", \"HI\", \"AK\", \"ID\", \"NM\", \"LA\", \"CO\", \"DE\"]\n",
    "print(\"\\n Lowest states: \\n\", police2[police2.state.isin(lowest_states)][['pop','county_income','share_white','share_black','share_hispanic']].mean())\n",
    "print(\"\\n Highest states: \\n\", police2[police2.state.isin(highest_states)][['pop','county_income','share_white','share_black','share_hispanic']].mean())"
   ]
  },
  {
   "cell_type": "code",
   "execution_count": null,
   "metadata": {
    "collapsed": true
   },
   "outputs": [],
   "source": []
  }
 ],
 "metadata": {
  "anaconda-cloud": {},
  "kernelspec": {
   "display_name": "Python 3",
   "language": "python",
   "name": "python3"
  },
  "language_info": {
   "codemirror_mode": {
    "name": "ipython",
    "version": 3
   },
   "file_extension": ".py",
   "mimetype": "text/x-python",
   "name": "python",
   "nbconvert_exporter": "python",
   "pygments_lexer": "ipython3",
   "version": "3.6.1"
  }
 },
 "nbformat": 4,
 "nbformat_minor": 1
}
